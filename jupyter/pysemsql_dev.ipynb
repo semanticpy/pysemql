{
 "cells": [
  {
   "cell_type": "markdown",
   "metadata": {},
   "source": [
    "# pySemQL Development Notebook"
   ]
  },
  {
   "cell_type": "markdown",
   "metadata": {},
   "source": [
    "```\n",
    "find scientist discovery where\n",
    "    scientist is dbo:Scientist\n",
    "        has dbo:discovery discovery\n",
    "        has dbo:birthPlace city\n",
    "    city has dbo:country \"Germany\"\n",
    "    filter discovery.year > 1900\n",
    "order by discovery.year desc\n",
    "limit 5\n",
    "```\n",
    "\n",
    "should result in the following SPARQL query:\n",
    "\n",
    "```sparql\n",
    "SELECT ?scientist ?discovery WHERE {\n",
    "  ?scientist a dbo:Scientist .\n",
    "  ?scientist dbo:discovery ?discovery .\n",
    "  ?scientist dbo:birthPlace ?city .\n",
    "  ?city dbo:country \"Germany\" .\n",
    "  FILTER(?discovery.year > 1900)\n",
    "}\n",
    "ORDER BY DESC(?discovery.year)\n",
    "LIMIT 5\n",
    "```"
   ]
  },
  {
   "cell_type": "markdown",
   "metadata": {},
   "source": []
  }
 ],
 "metadata": {
  "kernelspec": {
   "display_name": ".venv",
   "language": "python",
   "name": "python3"
  },
  "language_info": {
   "name": "python",
   "version": "3.11.11"
  }
 },
 "nbformat": 4,
 "nbformat_minor": 2
}
